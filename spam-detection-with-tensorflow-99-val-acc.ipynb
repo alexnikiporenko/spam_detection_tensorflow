{
 "cells": [
  {
   "cell_type": "code",
   "execution_count": 1,
   "id": "526577ec",
   "metadata": {
    "_cell_guid": "b1076dfc-b9ad-4769-8c92-a6c4dae69d19",
    "_uuid": "8f2839f25d086af736a60e9eeb907d3b93b6e0e5",
    "execution": {
     "iopub.execute_input": "2021-11-20T18:53:53.837890Z",
     "iopub.status.busy": "2021-11-20T18:53:53.837120Z",
     "iopub.status.idle": "2021-11-20T18:54:00.133663Z",
     "shell.execute_reply": "2021-11-20T18:54:00.132453Z",
     "shell.execute_reply.started": "2021-11-20T18:28:07.236280Z"
    },
    "papermill": {
     "duration": 6.320501,
     "end_time": "2021-11-20T18:54:00.133888",
     "exception": false,
     "start_time": "2021-11-20T18:53:53.813387",
     "status": "completed"
    },
    "tags": []
   },
   "outputs": [],
   "source": [
    "import tensorflow as tf\n",
    "import csv\n",
    "import numpy as np\n",
    "import matplotlib.pyplot as plt\n",
    "\n",
    "from tensorflow.keras.preprocessing.text import Tokenizer\n",
    "from tensorflow.keras.preprocessing.sequence import pad_sequences"
   ]
  },
  {
   "cell_type": "code",
   "execution_count": 2,
   "id": "925c7045",
   "metadata": {
    "execution": {
     "iopub.execute_input": "2021-11-20T18:54:00.159159Z",
     "iopub.status.busy": "2021-11-20T18:54:00.158292Z",
     "iopub.status.idle": "2021-11-20T18:54:00.197374Z",
     "shell.execute_reply": "2021-11-20T18:54:00.196478Z",
     "shell.execute_reply.started": "2021-11-20T18:28:13.046371Z"
    },
    "papermill": {
     "duration": 0.054586,
     "end_time": "2021-11-20T18:54:00.197563",
     "exception": false,
     "start_time": "2021-11-20T18:54:00.142977",
     "status": "completed"
    },
    "tags": []
   },
   "outputs": [
    {
     "name": "stdout",
     "output_type": "stream",
     "text": [
      "5572\n",
      "5572\n"
     ]
    }
   ],
   "source": [
    "sentences = []\n",
    "labels = []\n",
    "\n",
    "with open(\"../input/sms-spam-collection-dataset/spam.csv\",encoding=\"ISO-8859-1\") as csvfile:\n",
    "    spamreader = csv.reader(csvfile)\n",
    "    next(spamreader)\n",
    "    for row in spamreader:\n",
    "        if row[0] == \"ham\":\n",
    "            labels.append(0)\n",
    "        else:\n",
    "            labels.append(1)\n",
    "        sentences.append(row[1])\n",
    "        \n",
    "print(len(sentences))\n",
    "print(len(labels))\n",
    "\n",
    "total_len = len(sentences)"
   ]
  },
  {
   "cell_type": "code",
   "execution_count": 3,
   "id": "b6d7d7b3",
   "metadata": {
    "execution": {
     "iopub.execute_input": "2021-11-20T18:54:00.222537Z",
     "iopub.status.busy": "2021-11-20T18:54:00.221904Z",
     "iopub.status.idle": "2021-11-20T18:54:00.224213Z",
     "shell.execute_reply": "2021-11-20T18:54:00.223689Z",
     "shell.execute_reply.started": "2021-11-20T18:28:13.081450Z"
    },
    "papermill": {
     "duration": 0.016044,
     "end_time": "2021-11-20T18:54:00.224374",
     "exception": false,
     "start_time": "2021-11-20T18:54:00.208330",
     "status": "completed"
    },
    "tags": []
   },
   "outputs": [],
   "source": [
    "split = int(total_len*0.9)\n",
    "\n",
    "training_sentences = sentences[:split]\n",
    "testing_sentences = sentences[split:]\n",
    "training_labels = labels[:split]\n",
    "testing_labels = labels[split:]"
   ]
  },
  {
   "cell_type": "code",
   "execution_count": 4,
   "id": "a7ddde4f",
   "metadata": {
    "execution": {
     "iopub.execute_input": "2021-11-20T18:54:00.246896Z",
     "iopub.status.busy": "2021-11-20T18:54:00.246273Z",
     "iopub.status.idle": "2021-11-20T18:54:00.537623Z",
     "shell.execute_reply": "2021-11-20T18:54:00.536976Z",
     "shell.execute_reply.started": "2021-11-20T18:34:43.219949Z"
    },
    "papermill": {
     "duration": 0.302565,
     "end_time": "2021-11-20T18:54:00.537792",
     "exception": false,
     "start_time": "2021-11-20T18:54:00.235227",
     "status": "completed"
    },
    "tags": []
   },
   "outputs": [],
   "source": [
    "vocab_size = 200\n",
    "oov_tok = \"<OOV>\"\n",
    "embedding_dim = 16\n",
    "\n",
    "tokenizer = Tokenizer(num_words=vocab_size, oov_token=oov_tok)\n",
    "tokenizer.fit_on_texts(training_sentences)\n",
    "\n",
    "word_index = tokenizer.word_index\n",
    "\n",
    "sequences = tokenizer.texts_to_sequences(training_sentences)\n",
    "padded = pad_sequences(sequences)\n",
    "\n",
    "max_sequence_len = max([len(x) for x in sequences])\n",
    "\n",
    "testing_sequences = tokenizer.texts_to_sequences(testing_sentences)\n",
    "testing_padded = pad_sequences(testing_sequences,maxlen=max_sequence_len)"
   ]
  },
  {
   "cell_type": "code",
   "execution_count": 5,
   "id": "3ad62abd",
   "metadata": {
    "execution": {
     "iopub.execute_input": "2021-11-20T18:54:00.559139Z",
     "iopub.status.busy": "2021-11-20T18:54:00.558386Z",
     "iopub.status.idle": "2021-11-20T18:54:00.571112Z",
     "shell.execute_reply": "2021-11-20T18:54:00.570485Z",
     "shell.execute_reply.started": "2021-11-20T18:34:45.302432Z"
    },
    "papermill": {
     "duration": 0.024507,
     "end_time": "2021-11-20T18:54:00.571256",
     "exception": false,
     "start_time": "2021-11-20T18:54:00.546749",
     "status": "completed"
    },
    "tags": []
   },
   "outputs": [
    {
     "name": "stdout",
     "output_type": "stream",
     "text": [
      "(5014, 189)\n",
      "(5014,)\n",
      "(558, 189)\n",
      "(558,)\n"
     ]
    }
   ],
   "source": [
    "training_padded = np.array(padded)\n",
    "training_labels = np.array(training_labels)\n",
    "testing_padded = np.array(testing_padded)\n",
    "testing_labels = np.array(testing_labels)\n",
    "\n",
    "print(training_padded.shape)\n",
    "print(training_labels.shape)\n",
    "print(testing_padded.shape)\n",
    "print(testing_labels.shape)"
   ]
  },
  {
   "cell_type": "code",
   "execution_count": 6,
   "id": "a5a8f804",
   "metadata": {
    "execution": {
     "iopub.execute_input": "2021-11-20T18:54:00.593167Z",
     "iopub.status.busy": "2021-11-20T18:54:00.592426Z",
     "iopub.status.idle": "2021-11-20T18:54:01.454596Z",
     "shell.execute_reply": "2021-11-20T18:54:01.455336Z",
     "shell.execute_reply.started": "2021-11-20T18:50:15.114387Z"
    },
    "papermill": {
     "duration": 0.874886,
     "end_time": "2021-11-20T18:54:01.455544",
     "exception": false,
     "start_time": "2021-11-20T18:54:00.580658",
     "status": "completed"
    },
    "tags": []
   },
   "outputs": [
    {
     "name": "stderr",
     "output_type": "stream",
     "text": [
      "\n",
      "User settings:\n",
      "\n",
      "   KMP_AFFINITY=granularity=fine,verbose,compact,1,0\n",
      "   KMP_BLOCKTIME=0\n",
      "   KMP_SETTINGS=1\n",
      "   KMP_WARNINGS=0\n",
      "\n",
      "Effective settings:\n",
      "\n",
      "   KMP_ABORT_DELAY=0\n",
      "   KMP_ADAPTIVE_LOCK_PROPS='1,1024'\n",
      "   KMP_ALIGN_ALLOC=64\n",
      "   KMP_ALL_THREADPRIVATE=128\n",
      "   KMP_ATOMIC_MODE=2\n",
      "   KMP_BLOCKTIME=0\n",
      "   KMP_CPUINFO_FILE: value is not defined\n",
      "   KMP_DETERMINISTIC_REDUCTION=false\n",
      "   KMP_DEVICE_THREAD_LIMIT=2147483647\n",
      "   KMP_DISP_NUM_BUFFERS=7\n",
      "   KMP_DUPLICATE_LIB_OK=false\n",
      "   KMP_ENABLE_TASK_THROTTLING=true\n",
      "   KMP_FORCE_REDUCTION: value is not defined\n",
      "   KMP_FOREIGN_THREADS_THREADPRIVATE=true\n",
      "   KMP_FORKJOIN_BARRIER='2,2'\n",
      "   KMP_FORKJOIN_BARRIER_PATTERN='hyper,hyper'\n",
      "   KMP_GTID_MODE=3\n",
      "   KMP_HANDLE_SIGNALS=false\n",
      "   KMP_HOT_TEAMS_MAX_LEVEL=1\n",
      "   KMP_HOT_TEAMS_MODE=0\n",
      "   KMP_INIT_AT_FORK=true\n",
      "   KMP_LIBRARY=throughput\n",
      "   KMP_LOCK_KIND=queuing\n",
      "   KMP_MALLOC_POOL_INCR=1M\n",
      "   KMP_NUM_LOCKS_IN_BLOCK=1\n",
      "   KMP_PLAIN_BARRIER='2,2'\n",
      "   KMP_PLAIN_BARRIER_PATTERN='hyper,hyper'\n",
      "   KMP_REDUCTION_BARRIER='1,1'\n",
      "   KMP_REDUCTION_BARRIER_PATTERN='hyper,hyper'\n",
      "   KMP_SCHEDULE='static,balanced;guided,iterative'\n",
      "   KMP_SETTINGS=true\n",
      "   KMP_SPIN_BACKOFF_PARAMS='4096,100'\n",
      "   KMP_STACKOFFSET=64\n",
      "   KMP_STACKPAD=0\n",
      "   KMP_STACKSIZE=8M\n",
      "   KMP_STORAGE_MAP=false\n",
      "   KMP_TASKING=2\n",
      "   KMP_TASKLOOP_MIN_TASKS=0\n",
      "   KMP_TASK_STEALING_CONSTRAINT=1\n",
      "   KMP_TEAMS_THREAD_LIMIT=4\n",
      "   KMP_TOPOLOGY_METHOD=all\n",
      "   KMP_USE_YIELD=1\n",
      "   KMP_VERSION=false\n",
      "   KMP_WARNINGS=false\n",
      "   OMP_AFFINITY_FORMAT='OMP: pid %P tid %i thread %n bound to OS proc set {%A}'\n",
      "   OMP_ALLOCATOR=omp_default_mem_alloc\n",
      "   OMP_CANCELLATION=false\n",
      "   OMP_DEFAULT_DEVICE=0\n",
      "   OMP_DISPLAY_AFFINITY=false\n",
      "   OMP_DISPLAY_ENV=false\n",
      "   OMP_DYNAMIC=false\n",
      "   OMP_MAX_ACTIVE_LEVELS=1\n",
      "   OMP_MAX_TASK_PRIORITY=0\n",
      "   OMP_NESTED: deprecated; max-active-levels-var=1\n",
      "   OMP_NUM_THREADS: value is not defined\n",
      "   OMP_PLACES: value is not defined\n",
      "   OMP_PROC_BIND='intel'\n",
      "   OMP_SCHEDULE='static'\n",
      "   OMP_STACKSIZE=8M\n",
      "   OMP_TARGET_OFFLOAD=DEFAULT\n",
      "   OMP_THREAD_LIMIT=2147483647\n",
      "   OMP_WAIT_POLICY=PASSIVE\n",
      "   KMP_AFFINITY='verbose,warnings,respect,granularity=fine,compact,1,0'\n",
      "\n",
      "2021-11-20 18:54:00.642719: I tensorflow/core/common_runtime/process_util.cc:146] Creating new thread pool with default inter op setting: 2. Tune using inter_op_parallelism_threads for best performance.\n"
     ]
    },
    {
     "name": "stdout",
     "output_type": "stream",
     "text": [
      "Model: \"sequential\"\n",
      "_________________________________________________________________\n",
      "Layer (type)                 Output Shape              Param #   \n",
      "=================================================================\n",
      "embedding (Embedding)        (None, 189, 16)           3200      \n",
      "_________________________________________________________________\n",
      "bidirectional (Bidirectional (None, 189, 64)           12544     \n",
      "_________________________________________________________________\n",
      "conv1d (Conv1D)              (None, 185, 64)           20544     \n",
      "_________________________________________________________________\n",
      "max_pooling1d (MaxPooling1D) (None, 46, 64)            0         \n",
      "_________________________________________________________________\n",
      "flatten (Flatten)            (None, 2944)              0         \n",
      "_________________________________________________________________\n",
      "dropout (Dropout)            (None, 2944)              0         \n",
      "_________________________________________________________________\n",
      "dense (Dense)                (None, 24)                70680     \n",
      "_________________________________________________________________\n",
      "dense_1 (Dense)              (None, 1)                 25        \n",
      "=================================================================\n",
      "Total params: 106,993\n",
      "Trainable params: 106,993\n",
      "Non-trainable params: 0\n",
      "_________________________________________________________________\n"
     ]
    }
   ],
   "source": [
    "model = tf.keras.Sequential([\n",
    "    tf.keras.layers.Embedding(vocab_size, embedding_dim, input_length=max_sequence_len),\n",
    "    tf.keras.layers.Bidirectional(tf.keras.layers.LSTM(32, return_sequences=True)),\n",
    "    tf.keras.layers.Conv1D(64, 5, activation='relu'),\n",
    "    tf.keras.layers.MaxPooling1D(pool_size=4),\n",
    "    tf.keras.layers.Flatten(),\n",
    "    tf.keras.layers.Dropout(0.3),\n",
    "    tf.keras.layers.Dense(24, activation='relu'),\n",
    "    tf.keras.layers.Dense(1, activation='sigmoid')\n",
    "])\n",
    "\n",
    "adam = tf.keras.optimizers.Adam(learning_rate=0.005)\n",
    "\n",
    "model.compile(loss='binary_crossentropy',optimizer=adam,metrics=['accuracy'])\n",
    "\n",
    "model.summary()"
   ]
  },
  {
   "cell_type": "code",
   "execution_count": 7,
   "id": "b33e6cf3",
   "metadata": {
    "execution": {
     "iopub.execute_input": "2021-11-20T18:54:01.483395Z",
     "iopub.status.busy": "2021-11-20T18:54:01.482699Z",
     "iopub.status.idle": "2021-11-20T18:54:01.484875Z",
     "shell.execute_reply": "2021-11-20T18:54:01.485511Z",
     "shell.execute_reply.started": "2021-11-20T18:50:18.690412Z"
    },
    "papermill": {
     "duration": 0.01888,
     "end_time": "2021-11-20T18:54:01.485682",
     "exception": false,
     "start_time": "2021-11-20T18:54:01.466802",
     "status": "completed"
    },
    "tags": []
   },
   "outputs": [],
   "source": [
    "class myCb(tf.keras.callbacks.Callback):\n",
    "    def on_epoch_end(self, epoch, logs={}):\n",
    "        if logs.get(\"val_accuracy\") >= 0.99:\n",
    "            print(\"Reached 99% accuracy so cancelling training!\")\n",
    "            self.model.stop_training = True\n",
    "\n",
    "callbacks = myCb()"
   ]
  },
  {
   "cell_type": "code",
   "execution_count": 8,
   "id": "937f5355",
   "metadata": {
    "execution": {
     "iopub.execute_input": "2021-11-20T18:54:01.509397Z",
     "iopub.status.busy": "2021-11-20T18:54:01.508650Z",
     "iopub.status.idle": "2021-11-20T19:04:42.879535Z",
     "shell.execute_reply": "2021-11-20T19:04:42.880102Z",
     "shell.execute_reply.started": "2021-11-20T18:50:21.345259Z"
    },
    "papermill": {
     "duration": 641.384453,
     "end_time": "2021-11-20T19:04:42.880322",
     "exception": false,
     "start_time": "2021-11-20T18:54:01.495869",
     "status": "completed"
    },
    "tags": []
   },
   "outputs": [
    {
     "name": "stdout",
     "output_type": "stream",
     "text": [
      "Epoch 1/20\n"
     ]
    },
    {
     "name": "stderr",
     "output_type": "stream",
     "text": [
      "2021-11-20 18:54:01.571223: I tensorflow/compiler/mlir/mlir_graph_optimization_pass.cc:185] None of the MLIR Optimization Passes are enabled (registered 2)\n"
     ]
    },
    {
     "name": "stdout",
     "output_type": "stream",
     "text": [
      "157/157 [==============================] - 37s 206ms/step - loss: 0.2026 - accuracy: 0.9210 - val_loss: 0.1151 - val_accuracy: 0.9857\n",
      "Epoch 2/20\n",
      "157/157 [==============================] - 31s 199ms/step - loss: 0.1235 - accuracy: 0.9737 - val_loss: 0.0990 - val_accuracy: 0.9857\n",
      "Epoch 3/20\n",
      "157/157 [==============================] - 31s 196ms/step - loss: 0.1047 - accuracy: 0.9757 - val_loss: 0.0833 - val_accuracy: 0.9857\n",
      "Epoch 4/20\n",
      "157/157 [==============================] - 31s 200ms/step - loss: 0.0806 - accuracy: 0.9789 - val_loss: 0.0778 - val_accuracy: 0.9839\n",
      "Epoch 5/20\n",
      "157/157 [==============================] - 31s 200ms/step - loss: 0.0727 - accuracy: 0.9828 - val_loss: 0.0818 - val_accuracy: 0.9857\n",
      "Epoch 6/20\n",
      "157/157 [==============================] - 32s 205ms/step - loss: 0.0598 - accuracy: 0.9840 - val_loss: 0.1266 - val_accuracy: 0.9821\n",
      "Epoch 7/20\n",
      "157/157 [==============================] - 32s 202ms/step - loss: 0.0599 - accuracy: 0.9838 - val_loss: 0.1033 - val_accuracy: 0.9642\n",
      "Epoch 8/20\n",
      "157/157 [==============================] - 31s 199ms/step - loss: 0.0476 - accuracy: 0.9872 - val_loss: 0.1242 - val_accuracy: 0.9749\n",
      "Epoch 9/20\n",
      "157/157 [==============================] - 31s 199ms/step - loss: 0.0454 - accuracy: 0.9866 - val_loss: 0.1416 - val_accuracy: 0.9839\n",
      "Epoch 10/20\n",
      "157/157 [==============================] - 31s 200ms/step - loss: 0.0403 - accuracy: 0.9886 - val_loss: 0.1193 - val_accuracy: 0.9803\n",
      "Epoch 11/20\n",
      "157/157 [==============================] - 35s 224ms/step - loss: 0.0346 - accuracy: 0.9930 - val_loss: 0.1463 - val_accuracy: 0.9839\n",
      "Epoch 12/20\n",
      "157/157 [==============================] - 32s 204ms/step - loss: 0.0339 - accuracy: 0.9916 - val_loss: 0.2183 - val_accuracy: 0.9857\n",
      "Epoch 13/20\n",
      "157/157 [==============================] - 32s 204ms/step - loss: 0.0285 - accuracy: 0.9930 - val_loss: 0.1693 - val_accuracy: 0.9892\n",
      "Epoch 14/20\n",
      "157/157 [==============================] - 32s 204ms/step - loss: 0.0313 - accuracy: 0.9914 - val_loss: 0.1747 - val_accuracy: 0.9821\n",
      "Epoch 15/20\n",
      "157/157 [==============================] - 32s 202ms/step - loss: 0.0250 - accuracy: 0.9936 - val_loss: 0.2041 - val_accuracy: 0.9857\n",
      "Epoch 16/20\n",
      "157/157 [==============================] - 32s 204ms/step - loss: 0.0207 - accuracy: 0.9956 - val_loss: 0.2001 - val_accuracy: 0.9803\n",
      "Epoch 17/20\n",
      "157/157 [==============================] - 32s 202ms/step - loss: 0.0424 - accuracy: 0.9880 - val_loss: 0.1858 - val_accuracy: 0.9857\n",
      "Epoch 18/20\n",
      "157/157 [==============================] - 32s 203ms/step - loss: 0.0252 - accuracy: 0.9928 - val_loss: 0.1772 - val_accuracy: 0.9892\n",
      "Epoch 19/20\n",
      "157/157 [==============================] - 32s 201ms/step - loss: 0.0203 - accuracy: 0.9954 - val_loss: 0.1933 - val_accuracy: 0.9857\n",
      "Epoch 20/20\n",
      "157/157 [==============================] - 32s 204ms/step - loss: 0.0126 - accuracy: 0.9966 - val_loss: 0.2266 - val_accuracy: 0.9875\n"
     ]
    }
   ],
   "source": [
    "num_epochs = 20\n",
    "history = model.fit(training_padded,\n",
    "                    training_labels,\n",
    "                    epochs=num_epochs,\n",
    "                    validation_data=(testing_padded, testing_labels),\n",
    "                    callbacks=[callbacks],\n",
    "                    verbose=1)"
   ]
  },
  {
   "cell_type": "code",
   "execution_count": 9,
   "id": "5a5867a9",
   "metadata": {
    "execution": {
     "iopub.execute_input": "2021-11-20T19:04:44.810451Z",
     "iopub.status.busy": "2021-11-20T19:04:44.809738Z",
     "iopub.status.idle": "2021-11-20T19:04:45.315732Z",
     "shell.execute_reply": "2021-11-20T19:04:45.316274Z",
     "shell.execute_reply.started": "2021-11-20T18:53:27.887753Z"
    },
    "papermill": {
     "duration": 1.471988,
     "end_time": "2021-11-20T19:04:45.316460",
     "exception": false,
     "start_time": "2021-11-20T19:04:43.844472",
     "status": "completed"
    },
    "tags": []
   },
   "outputs": [
    {
     "data": {
      "image/png": "[encoded data removed]",
      "text/plain": [
       "<Figure size 432x288 with 1 Axes>"
      ]
     },
     "metadata": {
      "needs_background": "light"
     },
     "output_type": "display_data"
    },
    {
     "data": {
      "image/png": "[encoded data removed]",
      "text/plain": [
       "<Figure size 432x288 with 1 Axes>"
      ]
     },
     "metadata": {
      "needs_background": "light"
     },
     "output_type": "display_data"
    }
   ],
   "source": [
    "def plot_graphs(history, string):\n",
    "  plt.plot(history.history[string])\n",
    "  plt.plot(history.history['val_'+string])\n",
    "  plt.xlabel(\"Epochs\")\n",
    "  plt.ylabel(string)\n",
    "  plt.legend([string, 'val_'+string])\n",
    "  plt.show()\n",
    "\n",
    "plot_graphs(history, 'accuracy')\n",
    "plot_graphs(history, 'loss')"
   ]
  }
 ],
 "metadata": {
  "kernelspec": {
   "display_name": "Python 3",
   "language": "python",
   "name": "python3"
  },
  "language_info": {
   "codemirror_mode": {
    "name": "ipython",
    "version": 3
   },
   "file_extension": ".py",
   "mimetype": "text/x-python",
   "name": "python",
   "nbconvert_exporter": "python",
   "pygments_lexer": "ipython3",
   "version": "3.7.10"
  },
  "papermill": {
   "default_parameters": {},
   "duration": 665.327776,
   "end_time": "2021-11-20T19:04:49.685344",
   "environment_variables": {},
   "exception": null,
   "input_path": "__notebook__.ipynb",
   "output_path": "__notebook__.ipynb",
   "parameters": {},
   "start_time": "2021-11-20T18:53:44.357568",
   "version": "2.3.3"
  }
 },
 "nbformat": 4,
 "nbformat_minor": 5
}
